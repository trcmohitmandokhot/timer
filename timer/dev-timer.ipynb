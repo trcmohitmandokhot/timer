{
 "cells": [
  {
   "cell_type": "code",
   "execution_count": 1,
   "id": "222faef9",
   "metadata": {},
   "outputs": [],
   "source": [
    "# Imports\n",
    "\n",
    "import time\n",
    "\n",
    "CLOCK_INTERVAL = 1"
   ]
  },
  {
   "cell_type": "code",
   "execution_count": 3,
   "id": "5415bce0",
   "metadata": {},
   "outputs": [],
   "source": [
    "# User Input\n",
    "timer_start = 5\n",
    "timer_go = True"
   ]
  },
  {
   "cell_type": "code",
   "execution_count": 4,
   "id": "43e6ebb7",
   "metadata": {},
   "outputs": [],
   "source": [
    "valid_timer_start = False\n",
    "def check_validity_timer_start(timer_value):\n",
    "    if(isinstance(timer_value,int) and timer_value >0):\n",
    "        return True\n",
    "    else: \n",
    "        print(\"timer_start user entry invalid\")\n",
    "        return False\n",
    "\n",
    "valid_timer_start = check_validity_timer_start(timer_start)"
   ]
  },
  {
   "cell_type": "code",
   "execution_count": 5,
   "id": "b4ab558d",
   "metadata": {},
   "outputs": [],
   "source": [
    "def update_display(val):\n",
    "    print(val)"
   ]
  },
  {
   "cell_type": "code",
   "execution_count": 6,
   "id": "487ff065",
   "metadata": {},
   "outputs": [
    {
     "name": "stdout",
     "output_type": "stream",
     "text": [
      "5\n",
      "4\n",
      "3\n",
      "2\n",
      "1\n",
      "0\n"
     ]
    }
   ],
   "source": [
    "# Countdown Logic\n",
    "timer_now = timer_start\n",
    "\n",
    "while (timer_go and valid_timer_start):\n",
    "    update_display(timer_now)\n",
    "    timer_now = timer_now - 1\n",
    "    if timer_now < 0:\n",
    "        timer_go = False\n",
    "        break\n",
    "    else:\n",
    "        time.sleep(CLOCK_INTERVAL)  # 1ms accuracy. "
   ]
  },
  {
   "cell_type": "code",
   "execution_count": 7,
   "id": "ae093dc9",
   "metadata": {},
   "outputs": [
    {
     "name": "stdout",
     "output_type": "stream",
     "text": [
      "5\n",
      "4\n",
      "3\n",
      "2\n",
      "1\n",
      "0\n"
     ]
    }
   ],
   "source": [
    "# All code in one block\n",
    "\n",
    "import time\n",
    "\n",
    "CLOCK_INTERVAL = 1\n",
    "\n",
    "# User Input\n",
    "timer_start = 5\n",
    "timer_go = True\n",
    "\n",
    "valid_timer_start = False\n",
    "def check_validity_timer_start(timer_value):\n",
    "    if(isinstance(timer_value,int) and timer_value >0):\n",
    "        return True\n",
    "    else: \n",
    "        print(\"timer_start user entry invalid\")\n",
    "        return False\n",
    "\n",
    "valid_timer_start = check_validity_timer_start(timer_start)\n",
    "\n",
    "def update_display(val):\n",
    "    print(val)\n",
    "    \n",
    "# Countdown Logic\n",
    "timer_now = timer_start\n",
    "\n",
    "while (timer_go and valid_timer_start):\n",
    "    update_display(timer_now)\n",
    "    timer_now = timer_now - 1\n",
    "    if timer_now < 0:\n",
    "        timer_go = False\n",
    "        break\n",
    "    else:\n",
    "        time.sleep(CLOCK_INTERVAL)  # 1ms accuracy. "
   ]
  }
 ],
 "metadata": {
  "kernelspec": {
   "display_name": "Python 3 (ipykernel)",
   "language": "python",
   "name": "python3"
  },
  "language_info": {
   "codemirror_mode": {
    "name": "ipython",
    "version": 3
   },
   "file_extension": ".py",
   "mimetype": "text/x-python",
   "name": "python",
   "nbconvert_exporter": "python",
   "pygments_lexer": "ipython3",
   "version": "3.8.12"
  }
 },
 "nbformat": 4,
 "nbformat_minor": 5
}
